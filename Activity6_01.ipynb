{
  "nbformat": 4,
  "nbformat_minor": 0,
  "metadata": {
    "colab": {
      "provenance": [],
      "authorship_tag": "ABX9TyMV7EnC2ZerungOr7KdeDtY",
      "include_colab_link": true
    },
    "kernelspec": {
      "name": "python3",
      "display_name": "Python 3"
    },
    "language_info": {
      "name": "python"
    }
  },
  "cells": [
    {
      "cell_type": "markdown",
      "metadata": {
        "id": "view-in-github",
        "colab_type": "text"
      },
      "source": [
        "<a href=\"https://colab.research.google.com/github/salwardt1/CIDM5310/blob/main/Activity6_01.ipynb\" target=\"_parent\"><img src=\"https://colab.research.google.com/assets/colab-badge.svg\" alt=\"Open In Colab\"/></a>"
      ]
    },
    {
      "cell_type": "code",
      "execution_count": 1,
      "metadata": {
        "id": "vGBgYlkktsqi"
      },
      "outputs": [],
      "source": [
        "import pandas as pd"
      ]
    },
    {
      "cell_type": "code",
      "source": [
        "population_2010 = pd.read_csv('US_Census_SUB-IP-EST2019-ANNRNK_top_20_2010.csv',\n",
        "                              index_col = [0],\n",
        "                              squeeze=True)\n",
        "population_2010"
      ],
      "metadata": {
        "colab": {
          "base_uri": "https://localhost:8080/"
        },
        "id": "11RPdnyQujHT",
        "outputId": "93c2152a-4899-4dcc-ce6d-789b52051c44"
      },
      "execution_count": 5,
      "outputs": [
        {
          "output_type": "stream",
          "name": "stderr",
          "text": [
            "<ipython-input-5-92129531a818>:1: FutureWarning: The squeeze argument has been deprecated and will be removed in a future version. Append .squeeze(\"columns\") to the call to squeeze.\n",
            "\n",
            "\n",
            "  population_2010 = pd.read_csv('US_Census_SUB-IP-EST2019-ANNRNK_top_20_2010.csv',\n"
          ]
        },
        {
          "output_type": "execute_result",
          "data": {
            "text/plain": [
              "City\n",
              "New York                8190209\n",
              "Los Angeles             3795512\n",
              "Chicago                 2697477\n",
              "Houston                 2100280\n",
              "Phoenix                 1449038\n",
              "Philadelphia            1528283\n",
              "San Antonio             1332299\n",
              "San Diego               1305906\n",
              "Dallas                  1200350\n",
              "San Jose                 954940\n",
              "Austin                   806164\n",
              "Jacksonville             823114\n",
              "Fort Worth               748441\n",
              "Columbus                 790943\n",
              "Charlotte                738444\n",
              "San Francisco            805505\n",
              "Indianapolis             821579\n",
              "Seattle                  610630\n",
              "Denver                   603359\n",
              "District of Columbia     605226\n",
              "Name: 2010, dtype: int64"
            ]
          },
          "metadata": {},
          "execution_count": 5
        }
      ]
    },
    {
      "cell_type": "code",
      "source": [
        "# Calculate total pop. of 3 largest cities in 2010\n",
        "top_3_2010 = sum(population_2010[['New York', 'Los Angeles','Chicago']])"
      ],
      "metadata": {
        "id": "Zrv4nG_Xu8G4"
      },
      "execution_count": 6,
      "outputs": []
    },
    {
      "cell_type": "code",
      "source": [
        "population_2019 = pd.read_csv('US_Census_SUB-IP-EST2019-ANNRNK_top_20_2019.csv',\n",
        "                              index_col = [0],\n",
        "                              squeeze=True)\n",
        "population_2019"
      ],
      "metadata": {
        "colab": {
          "base_uri": "https://localhost:8080/"
        },
        "id": "A6ydEssFviaG",
        "outputId": "b4c4c46f-4c92-4d2d-cfe1-2559f5b38378"
      },
      "execution_count": 7,
      "outputs": [
        {
          "output_type": "stream",
          "name": "stderr",
          "text": [
            "<ipython-input-7-8415f3461cf7>:1: FutureWarning: The squeeze argument has been deprecated and will be removed in a future version. Append .squeeze(\"columns\") to the call to squeeze.\n",
            "\n",
            "\n",
            "  population_2019 = pd.read_csv('US_Census_SUB-IP-EST2019-ANNRNK_top_20_2019.csv',\n"
          ]
        },
        {
          "output_type": "execute_result",
          "data": {
            "text/plain": [
              "City\n",
              "New York                8336817\n",
              "Los Angeles             3979576\n",
              "Chicago                 2693976\n",
              "Houston                 2320268\n",
              "Phoenix                 1680992\n",
              "Philadelphia            1584064\n",
              "San Antonio             1547253\n",
              "San Diego               1423851\n",
              "Dallas                  1343573\n",
              "San Jose                1021795\n",
              "Austin                   978908\n",
              "Jacksonville             911507\n",
              "Fort Worth               909585\n",
              "Columbus                 898553\n",
              "Charlotte                885708\n",
              "San Francisco            881549\n",
              "Indianapolis             876384\n",
              "Seattle                  753675\n",
              "Denver                   727211\n",
              "District of Columbia     705749\n",
              "Name: 2019, dtype: int64"
            ]
          },
          "metadata": {},
          "execution_count": 7
        }
      ]
    },
    {
      "cell_type": "code",
      "source": [
        "# Calculate total pop. of 3 largest cities in 2019\n",
        "top_3_2019 = sum(population_2019[['New York', 'Los Angeles','Chicago']])"
      ],
      "metadata": {
        "id": "6ruWnRGnv38B"
      },
      "execution_count": 8,
      "outputs": []
    },
    {
      "cell_type": "code",
      "source": [
        "top_3_change = 100 * (top_3_2019 - top_3_2010)/top_3_2010\n",
        "all_change = 100 * sum(population_2019 - population_2010)/sum(population_2010)\n",
        "print('Top 3 percent change:', str(round(top_3_change, 1)),'%\\n',\n",
        "      'Vs. all percent change:', str(round(all_change, 1)), '%')"
      ],
      "metadata": {
        "colab": {
          "base_uri": "https://localhost:8080/"
        },
        "id": "-dH9cRS4v_iJ",
        "outputId": "ac163e5e-25f2-4c2b-cb10-4d3ee4c409ed"
      },
      "execution_count": 12,
      "outputs": [
        {
          "output_type": "stream",
          "name": "stdout",
          "text": [
            "Top 3 percent change: 2.2 %\n",
            " Vs. all percent change: 8.0 %\n"
          ]
        }
      ]
    }
  ]
}